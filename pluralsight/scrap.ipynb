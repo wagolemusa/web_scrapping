{
 "cells": [
  {
   "cell_type": "code",
   "execution_count": 1,
   "metadata": {},
   "outputs": [],
   "source": [
    "import requests\n",
    "from bs4 import BeautifulSoup\n",
    "import pandas as pd\n",
    "\n",
    "start_url = 'https://en.wikipedia.org/wiki/Tesla,_Inc.'\n",
    "\n",
    "# Download the HTML start_url\n",
    "download_html = requests.get(start_url)\n",
    "\n",
    "# Parse the html with BeautifulSuop and create a soup project\n",
    "soup = BeautifulSoup(download_html.text)\n",
    "\n",
    "# save a local copy\n",
    "with open('download_html', 'w') as file:\n",
    "    file.write(soup.prettify())\n",
    "    \n",
    "    "
   ]
  },
  {
   "cell_type": "code",
   "execution_count": 13,
   "metadata": {},
   "outputs": [
    {
     "name": "stdout",
     "output_type": "stream",
     "text": [
      "---------\n",
      "['', \"Tesla's_headquarters_in_Palo_Alto\", 'Formerly_Tesla_Motors,_Inc._(2003–2017)', 'Type_Public', 'Traded\\xa0as_NASDAQ_:_TSLA_NASDAQ-100_component_Russell_1000_component', 'ISIN_US88160R1014', 'Industry_Automotive_Energy_storage_Energy_production', 'Founded_July\\xa01,_2003_;_17\\xa0years_ago_(_2003-07-01_)_[1]', 'Founders_Disputed,_see_text', 'Headquarters_Palo_Alto,_California_,_U.S.', 'Area_served_Worldwide', 'Key_people_Elon_Musk_(_CEO_)_Robyn_Denholm_(_Chairwoman_)_Drew_Baglino_(_CTO_)_Zach_Kirkhorn_(_CFO_)', 'Products_Electric_vehicles_Tesla_batteries_Solar_panels_and_roofs', 'Production_output_367,500_vehicles_(2019)_1,651_MWh_batteries_[2]_(2019)_173_MW_solar_[2]_(2019)', 'Revenue_US$_24.578\\xa0billion_(2019)', 'Operating_income_US$_−69_million_(2019)', 'Net_income_US$_−862_million_(2019)', 'Total_assets_US$34.309\\xa0billion_(2019)', 'Total_equity_US$6.618\\xa0billion_(2019)', 'Owner_Elon_Musk_(20.8%)_[3]', 'Number_of_employees_48,016_[4]_(2019)', 'Subsidiaries_SolarCity_Tesla_Grohmann_Automation_Maxwell_Technologies_DeepScale_Hibar_Systems_SilLion', 'Website_www_.tesla_.com', 'Footnotes\\xa0/_references_[5]_[6]_[7]']\n"
     ]
    }
   ],
   "source": [
    "import requests\n",
    "from bs4 import BeautifulSoup\n",
    "import pandas as pd\n",
    "import re\n",
    "regex = re.compile('_\\[w\\]')\n",
    "# start_url = 'https://en.wikipedia.org/wiki/Tesla,_Inc.'\n",
    "start_url = requests.get('https://en.wikipedia.org/wiki/Tesla,_Inc.')\n",
    "soup = BeautifulSoup(start_url.content, 'html.parser')\n",
    "# full_table = soup.select('table_wikitable')\n",
    "\n",
    "# nav = soup.nav\n",
    "# for url in nav.find_all('a'):\n",
    "#     print(url.get('href'))\n",
    "\n",
    "table = soup.table\n",
    "\n",
    "table_row = table.find_all('tr')\n",
    "# print(table_row)\n",
    "\n",
    "table_columns = []\n",
    "for element in table_row:\n",
    "    column_label = element.get_text(separator=\" \", strip=True)\n",
    "    column_label = column_label.replace(' ', '_')\n",
    "    column_label = regex.sub('', column_label)\n",
    "    table_columns.append(column_label)\n",
    "#     print(column_label)\n",
    "    \n",
    "print('---------')\n",
    "print(table_columns)\n",
    "\n"
   ]
  },
  {
   "cell_type": "code",
   "execution_count": null,
   "metadata": {},
   "outputs": [],
   "source": []
  },
  {
   "cell_type": "code",
   "execution_count": null,
   "metadata": {},
   "outputs": [],
   "source": []
  }
 ],
 "metadata": {
  "kernelspec": {
   "display_name": "Python 3",
   "language": "python",
   "name": "python3"
  },
  "language_info": {
   "codemirror_mode": {
    "name": "ipython",
    "version": 3
   },
   "file_extension": ".py",
   "mimetype": "text/x-python",
   "name": "python",
   "nbconvert_exporter": "python",
   "pygments_lexer": "ipython3",
   "version": "3.5.6"
  }
 },
 "nbformat": 4,
 "nbformat_minor": 4
}
