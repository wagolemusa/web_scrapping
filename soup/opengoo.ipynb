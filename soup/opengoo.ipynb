{
 "cells": [
  {
   "cell_type": "code",
   "execution_count": 1,
   "metadata": {},
   "outputs": [],
   "source": [
    "from selenium import webdriver\n",
    "from selenium.webdriver.common.keys import Keys\n",
    "driver = webdriver.Chrome('/home/refuge/code/scraping/soup/chromedriver')\n",
    "\n",
    "\n",
    "driver.set_page_load_timeout(\"10\")\n",
    "driver.get(\"http://google.com\")\n",
    "element=driver.find_element_by_name(\"q\")\n",
    "element.send_keys(\"selenium\")\n",
    "# element=driver.find_element_by_name(\"btnK\")\n",
    "element.send_keys(Keys.RETURN);"
   ]
  },
  {
   "cell_type": "code",
   "execution_count": null,
   "metadata": {},
   "outputs": [],
   "source": []
  }
 ],
 "metadata": {
  "kernelspec": {
   "display_name": "Python 3",
   "language": "python",
   "name": "python3"
  },
  "language_info": {
   "codemirror_mode": {
    "name": "ipython",
    "version": 3
   },
   "file_extension": ".py",
   "mimetype": "text/x-python",
   "name": "python",
   "nbconvert_exporter": "python",
   "pygments_lexer": "ipython3",
   "version": "3.5.6"
  }
 },
 "nbformat": 4,
 "nbformat_minor": 4
}
