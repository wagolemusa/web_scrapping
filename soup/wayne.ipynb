{
 "cells": [
  {
   "cell_type": "code",
   "execution_count": 13,
   "metadata": {},
   "outputs": [
    {
     "ename": "AttributeError",
     "evalue": "'list' object has no attribute 'click'",
     "output_type": "error",
     "traceback": [
      "\u001b[0;31m---------------------------------------------------------------------------\u001b[0m",
      "\u001b[0;31mAttributeError\u001b[0m                            Traceback (most recent call last)",
      "\u001b[0;32m<ipython-input-13-d501588cfb09>\u001b[0m in \u001b[0;36m<module>\u001b[0;34m\u001b[0m\n\u001b[1;32m     26\u001b[0m \u001b[0;31m# elements = driver.find_elements_by_xpath(\"//*[@class='searchInputContainer']\").click()\u001b[0m\u001b[0;34m\u001b[0m\u001b[0;34m\u001b[0m\u001b[0m\n\u001b[1;32m     27\u001b[0m \u001b[0;34m\u001b[0m\u001b[0m\n\u001b[0;32m---> 28\u001b[0;31m \u001b[0melements\u001b[0m \u001b[0;34m=\u001b[0m \u001b[0mdriver\u001b[0m\u001b[0;34m.\u001b[0m\u001b[0mfind_elements_by_css_selector\u001b[0m\u001b[0;34m(\u001b[0m\u001b[0;34m\"searchInputContainer searchCommit\"\u001b[0m\u001b[0;34m)\u001b[0m\u001b[0;34m.\u001b[0m\u001b[0mclick\u001b[0m\u001b[0;34m(\u001b[0m\u001b[0;34m)\u001b[0m\u001b[0;34m\u001b[0m\u001b[0m\n\u001b[0m\u001b[1;32m     29\u001b[0m \u001b[0;31m# elements.click()\u001b[0m\u001b[0;34m\u001b[0m\u001b[0;34m\u001b[0m\u001b[0m\n\u001b[1;32m     30\u001b[0m \u001b[0;31m# search_ele.send_keys(Keys.RETURN)\u001b[0m\u001b[0;34m\u001b[0m\u001b[0;34m\u001b[0m\u001b[0m\n",
      "\u001b[0;31mAttributeError\u001b[0m: 'list' object has no attribute 'click'"
     ]
    }
   ],
   "source": [
    "from selenium import webdriver\n",
    "from selenium.webdriver.common.keys import Keys\n",
    "from selenium.webdriver.chrome.options import Options\n",
    "from selenium.webdriver.support.ui import WebDriverWait\n",
    "# from selenium.webdriver.support import expected_conditions as BC\n",
    "from selenium.webdriver.support import expected_conditions as EC \n",
    "from selenium.webdriver.common.by import By\n",
    "import time\n",
    "chromeOptions = Options()\n",
    "chromeOptions.add_argument(\"--kiosk\")\n",
    "driver = webdriver.Chrome('/home/refuge/code/scraping/soup/chromedriver')\n",
    "\n",
    "driver.get(\"https://www.premierleague.com/\")\n",
    "\n",
    "# click on player tab\n",
    "players_ele = driver.find_element_by_link_text(\"Players\").click()\n",
    "\n",
    "# search for wayne rooney\n",
    "# web driver wait\n",
    "element = WebDriverWait(driver, 10).until(\n",
    "    EC.element_to_be_clickable((By.ID, \"search-input\")))\n",
    "\n",
    "search_ele = driver.find_element_by_id(\"search-input\")\n",
    "search_ele.send_keys(\"Wayne Rooney\")\n",
    "\n",
    "# elements = driver.find_elements_by_xpath(\"//*[@class='searchInputContainer']\").click()\n",
    "\n",
    "elements = driver.find_elements_by_css_selector(\"searchInputContainer searchCommit\").click()\n",
    "# elements.click()\n",
    "# search_ele.send_keys(Keys.RETURN)\n",
    "# search_ele.click()\n",
    "# clicking on wayne rooney\n",
    "\n",
    "driver.implicitly_wait(2)\n",
    "click_wayne = driver.find_element_by_xpath(\"//img[@data-player='p13017']\").click()\n",
    "\n",
    "\n",
    "# from bs4 import BeautifullSoup(page_source_overview, 'lxml')\n",
    "\n",
    "# # locating the title\n",
    "# title_finder = soup.find_all(\"span\", class_=\"title\")\n",
    "# title_finder\n",
    "\n",
    "# print(10*\"_\" + \"There are the latest news headlines about Wayne Rooney\" + 10*\"_\" + \"\\n\")\n",
    "# for title in title_finder:\n",
    "#     print(title.string)\n",
    "    \n",
    "# # state button element\n",
    "# time.sleep(1)\n",
    "# wayne_status = driver.find_element_by_xpath(\"//a[@href='stats']\").click()\n",
    "\n",
    "# page_source_overview = driver.page_source\n",
    "\n",
    "# soup = BeautifulSoup(page_source_stats, \"lxml\")\n",
    "\n",
    "# # locating all the stats\n",
    "# stat_finder = soup.find_all(\"span\", class_=\"allStatContainer\")\n",
    "# print(stat_finder)\n",
    "\n",
    "# print(10*\"_\" + \"Wayne Rooney Stats\" + 10*\"_\" + \"\\n\")\n",
    "# for stat in stat_finder:\n",
    "#     print(stat[\"data-stat\"] + \" _ \" + stat.string) "
   ]
  },
  {
   "cell_type": "code",
   "execution_count": null,
   "metadata": {},
   "outputs": [],
   "source": []
  },
  {
   "cell_type": "code",
   "execution_count": null,
   "metadata": {},
   "outputs": [],
   "source": []
  }
 ],
 "metadata": {
  "kernelspec": {
   "display_name": "Python 3",
   "language": "python",
   "name": "python3"
  },
  "language_info": {
   "codemirror_mode": {
    "name": "ipython",
    "version": 3
   },
   "file_extension": ".py",
   "mimetype": "text/x-python",
   "name": "python",
   "nbconvert_exporter": "python",
   "pygments_lexer": "ipython3",
   "version": "3.5.6"
  }
 },
 "nbformat": 4,
 "nbformat_minor": 4
}
