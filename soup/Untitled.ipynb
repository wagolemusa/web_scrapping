{
 "cells": [
  {
   "cell_type": "code",
   "execution_count": 19,
   "metadata": {},
   "outputs": [
    {
     "name": "stdout",
     "output_type": "stream",
     "text": [
      "Google\n"
     ]
    }
   ],
   "source": [
    "from selenium import webdriver\n",
    "from selenium.webdriver.common.keys import Keys\n",
    "from selenium.webdriver.chrome.options import Options\n",
    "import time\n",
    "\n",
    "# Adding options on chrome\n",
    "chromeOptions = Options()\n",
    "chromeOptions.add_argument(\"--kiosk\")\n",
    "\n",
    "# openning a web pages\n",
    "# driver = webdriver.Chrome(options=chromeOptions)\n",
    "driver = webdriver.Chrome('/home/refuge/code/scraping/soup/chromedriver')\n",
    "# driver.get(\"https://www.pluralsight.com/\")\n",
    "driver.get(\"http://google.com\")\n",
    "print(driver.title)\n",
    "ele = driver.find_element_by_name(\"q\")\n",
    "# ele = driver.find_element_by_xpath(\"//input[@type='text']\")\n",
    "ele.clear()\n",
    "ele.send_keys(\"Wagole musa\")\n",
    "ele.send_keys(Keys.RETURN)\n",
    "time.sleep(20)\n",
    "driver.quit()"
   ]
  },
  {
   "cell_type": "code",
   "execution_count": null,
   "metadata": {},
   "outputs": [],
   "source": []
  }
 ],
 "metadata": {
  "kernelspec": {
   "display_name": "Python 3",
   "language": "python",
   "name": "python3"
  },
  "language_info": {
   "codemirror_mode": {
    "name": "ipython",
    "version": 3
   },
   "file_extension": ".py",
   "mimetype": "text/x-python",
   "name": "python",
   "nbconvert_exporter": "python",
   "pygments_lexer": "ipython3",
   "version": "3.5.6"
  }
 },
 "nbformat": 4,
 "nbformat_minor": 4
}
