{
 "cells": [
  {
   "cell_type": "code",
   "execution_count": 1,
   "metadata": {},
   "outputs": [
    {
     "ename": "SyntaxError",
     "evalue": "unexpected character after line continuation character (<ipython-input-1-4e7c62b28400>, line 8)",
     "output_type": "error",
     "traceback": [
      "\u001b[0;36m  File \u001b[0;32m\"<ipython-input-1-4e7c62b28400>\"\u001b[0;36m, line \u001b[0;32m8\u001b[0m\n\u001b[0;31m    driver.get(r'https://accounts.google.com/signin/v2/identifier?continue='+\\\u001b[0m\n\u001b[0m                                                                               ^\u001b[0m\n\u001b[0;31mSyntaxError\u001b[0m\u001b[0;31m:\u001b[0m unexpected character after line continuation character\n"
     ]
    }
   ],
   "source": [
    "from selenium import webdriver \n",
    "from webdriver_manager.chrome import ChromeDriverManager \n",
    "\n",
    "print('Enter the gmailid and password') \n",
    "gmailId, passWord = map(str, input().split()) \n",
    "try: \n",
    "    driver = webdriver.Chrome(ChromeDriverManager().install()) \n",
    "    driver.get(r'https://accounts.google.com/signin/v2/identifier?continue=https%3A%2F%2Fmail.google.com%2Fmail%2F&service=mail&sacu=1&rip=1'+\\ \n",
    "    '&flowName=GlifWebSignIn&flowEntry = ServiceLogin') \n",
    "    driver.implicitly_wait(15) \n",
    "\n",
    "    loginBox = driver.find_element_by_xpath('//*[@id =\"identifierId\"]') \n",
    "    loginBox.send_keys(gmailId) \n",
    "\n",
    "    nextButton = driver.find_elements_by_xpath('//*[@id =\"identifierNext\"]') \n",
    "    nextButton[0].click() \n",
    "\n",
    "    passWordBox = driver.find_element_by_xpath( \n",
    "        '//*[@id =\"password\"]/div[1]/div / div[1]/input') \n",
    "    passWordBox.send_keys(passWord) \n",
    "\n",
    "    nextButton = driver.find_elements_by_xpath('//*[@id =\"passwordNext\"]') \n",
    "    nextButton[0].click() \n",
    "\n",
    "    print('Login Successful...!!') \n",
    "except: \n",
    "    print('Login Failed') \n"
   ]
  },
  {
   "cell_type": "code",
   "execution_count": null,
   "metadata": {},
   "outputs": [],
   "source": []
  }
 ],
 "metadata": {
  "kernelspec": {
   "display_name": "Python 3",
   "language": "python",
   "name": "python3"
  },
  "language_info": {
   "codemirror_mode": {
    "name": "ipython",
    "version": 3
   },
   "file_extension": ".py",
   "mimetype": "text/x-python",
   "name": "python",
   "nbconvert_exporter": "python",
   "pygments_lexer": "ipython3",
   "version": "3.5.6"
  }
 },
 "nbformat": 4,
 "nbformat_minor": 4
}
